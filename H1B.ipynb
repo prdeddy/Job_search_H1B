{
 "cells": [
  {
   "cell_type": "code",
   "execution_count": 100,
   "id": "2c30c37e",
   "metadata": {},
   "outputs": [],
   "source": [
    "import pandas as pd \n",
    "import streamlit as st\n",
    "from selenium import webdriver\n",
    "import os\n",
    "from selenium.webdriver.common.by import By\n",
    "from selenium.webdriver.common.keys import Keys\n",
    "from bs4 import BeautifulSoup\n",
    "import requests"
   ]
  },
  {
   "cell_type": "code",
   "execution_count": 2,
   "id": "61509b79",
   "metadata": {},
   "outputs": [],
   "source": [
    "raw_data = pd.read_csv('h1b_datahubexport-2022.csv')"
   ]
  },
  {
   "cell_type": "code",
   "execution_count": 3,
   "id": "c10c3848",
   "metadata": {},
   "outputs": [],
   "source": [
    "sorted_data = raw_data.sort_values(by='Initial Approval',ascending=False)"
   ]
  },
  {
   "cell_type": "code",
   "execution_count": 4,
   "id": "733001f7",
   "metadata": {},
   "outputs": [],
   "source": [
    "work_data = sorted_data.reset_index().loc[:,['Fiscal Year','Employer','Initial Approval','Initial Denial','Continuing Approval','Continuing Denial','City']]"
   ]
  },
  {
   "cell_type": "code",
   "execution_count": 5,
   "id": "a1ba09bf",
   "metadata": {},
   "outputs": [
    {
     "data": {
      "text/plain": [
       "59976"
      ]
     },
     "execution_count": 5,
     "metadata": {},
     "output_type": "execute_result"
    }
   ],
   "source": [
    "work_data = work_data[work_data['Employer'].notna()]\n",
    "len(work_data)"
   ]
  },
  {
   "cell_type": "code",
   "execution_count": 6,
   "id": "d81b4e2d",
   "metadata": {},
   "outputs": [
    {
     "name": "stderr",
     "output_type": "stream",
     "text": [
      "2023-02-13 16:39:18.100 \n",
      "  \u001b[33m\u001b[1mWarning:\u001b[0m to view this Streamlit app on a browser, run it with the following\n",
      "  command:\n",
      "\n",
      "    streamlit run /Users/deekshith/opt/anaconda3/lib/python3.9/site-packages/ipykernel_launcher.py [ARGUMENTS]\n"
     ]
    }
   ],
   "source": [
    "choice = st.number_input(\"Select number of companies you want to view\",1,50000)\n",
    "search = st.sidebar.text_input('company name')"
   ]
  },
  {
   "cell_type": "code",
   "execution_count": 28,
   "id": "1840dc4f",
   "metadata": {},
   "outputs": [
    {
     "ename": "SyntaxError",
     "evalue": "invalid syntax (151516194.py, line 1)",
     "output_type": "error",
     "traceback": [
      "\u001b[0;36m  File \u001b[0;32m\"/var/folders/p5/cwxqvjnj683_4_6z6gt78f940000gn/T/ipykernel_16687/151516194.py\"\u001b[0;36m, line \u001b[0;32m1\u001b[0m\n\u001b[0;31m    streamlit run 'Untitled.ipynb'\u001b[0m\n\u001b[0m              ^\u001b[0m\n\u001b[0;31mSyntaxError\u001b[0m\u001b[0;31m:\u001b[0m invalid syntax\n"
     ]
    }
   ],
   "source": [
    "st.dataframe(work_data.head(choice))"
   ]
  },
  {
   "cell_type": "code",
   "execution_count": 7,
   "id": "bcf7ebb0",
   "metadata": {},
   "outputs": [
    {
     "data": {
      "text/html": [
       "<div>\n",
       "<style scoped>\n",
       "    .dataframe tbody tr th:only-of-type {\n",
       "        vertical-align: middle;\n",
       "    }\n",
       "\n",
       "    .dataframe tbody tr th {\n",
       "        vertical-align: top;\n",
       "    }\n",
       "\n",
       "    .dataframe thead th {\n",
       "        text-align: right;\n",
       "    }\n",
       "</style>\n",
       "<table border=\"1\" class=\"dataframe\">\n",
       "  <thead>\n",
       "    <tr style=\"text-align: right;\">\n",
       "      <th></th>\n",
       "      <th>Fiscal Year</th>\n",
       "      <th>Employer</th>\n",
       "      <th>Initial Approval</th>\n",
       "      <th>Initial Denial</th>\n",
       "      <th>Continuing Approval</th>\n",
       "      <th>Continuing Denial</th>\n",
       "      <th>City</th>\n",
       "    </tr>\n",
       "  </thead>\n",
       "  <tbody>\n",
       "    <tr>\n",
       "      <th>0</th>\n",
       "      <td>2022</td>\n",
       "      <td>AMAZON.COM SERVICES LLC</td>\n",
       "      <td>3296</td>\n",
       "      <td>18</td>\n",
       "      <td>6314</td>\n",
       "      <td>103</td>\n",
       "      <td>ARLINGTON</td>\n",
       "    </tr>\n",
       "    <tr>\n",
       "      <th>1</th>\n",
       "      <td>2022</td>\n",
       "      <td>INFOSYS LIMITED</td>\n",
       "      <td>3117</td>\n",
       "      <td>50</td>\n",
       "      <td>3971</td>\n",
       "      <td>22</td>\n",
       "      <td>RICHARDSON</td>\n",
       "    </tr>\n",
       "    <tr>\n",
       "      <th>2</th>\n",
       "      <td>2022</td>\n",
       "      <td>TATA CONSULTANCY SVCS LTD</td>\n",
       "      <td>2722</td>\n",
       "      <td>86</td>\n",
       "      <td>7238</td>\n",
       "      <td>255</td>\n",
       "      <td>ROCKVILLE</td>\n",
       "    </tr>\n",
       "    <tr>\n",
       "      <th>3</th>\n",
       "      <td>2022</td>\n",
       "      <td>COGNIZANT TECHNOLOGY SOLUTIONS US CORP</td>\n",
       "      <td>2447</td>\n",
       "      <td>22</td>\n",
       "      <td>3375</td>\n",
       "      <td>36</td>\n",
       "      <td>COLLEGE STATION</td>\n",
       "    </tr>\n",
       "    <tr>\n",
       "      <th>4</th>\n",
       "      <td>2022</td>\n",
       "      <td>GOOGLE LLC</td>\n",
       "      <td>1562</td>\n",
       "      <td>11</td>\n",
       "      <td>6858</td>\n",
       "      <td>76</td>\n",
       "      <td>MOUNTAIN VIEW</td>\n",
       "    </tr>\n",
       "    <tr>\n",
       "      <th>...</th>\n",
       "      <td>...</td>\n",
       "      <td>...</td>\n",
       "      <td>...</td>\n",
       "      <td>...</td>\n",
       "      <td>...</td>\n",
       "      <td>...</td>\n",
       "      <td>...</td>\n",
       "    </tr>\n",
       "    <tr>\n",
       "      <th>59978</th>\n",
       "      <td>2022</td>\n",
       "      <td>INTERNATIONAL B2B SOLUTIONS INC</td>\n",
       "      <td>0</td>\n",
       "      <td>0</td>\n",
       "      <td>1</td>\n",
       "      <td>0</td>\n",
       "      <td>PLEASANTON</td>\n",
       "    </tr>\n",
       "    <tr>\n",
       "      <th>59979</th>\n",
       "      <td>2022</td>\n",
       "      <td>INTERNATIONAL BRIDGE INC</td>\n",
       "      <td>0</td>\n",
       "      <td>0</td>\n",
       "      <td>1</td>\n",
       "      <td>0</td>\n",
       "      <td>PROVO</td>\n",
       "    </tr>\n",
       "    <tr>\n",
       "      <th>59980</th>\n",
       "      <td>2022</td>\n",
       "      <td>INTERNATIONAL BUDGET PARTNERSHIP</td>\n",
       "      <td>0</td>\n",
       "      <td>0</td>\n",
       "      <td>2</td>\n",
       "      <td>0</td>\n",
       "      <td>WASHINGTON</td>\n",
       "    </tr>\n",
       "    <tr>\n",
       "      <th>59981</th>\n",
       "      <td>2022</td>\n",
       "      <td>INTERNATIONAL BUSINESS SOLUTIONS L</td>\n",
       "      <td>0</td>\n",
       "      <td>0</td>\n",
       "      <td>1</td>\n",
       "      <td>0</td>\n",
       "      <td>BRIDGEWATER</td>\n",
       "    </tr>\n",
       "    <tr>\n",
       "      <th>59982</th>\n",
       "      <td>2022</td>\n",
       "      <td>ZZ VENTURES INC</td>\n",
       "      <td>0</td>\n",
       "      <td>0</td>\n",
       "      <td>1</td>\n",
       "      <td>0</td>\n",
       "      <td>SAN FRANCISCO</td>\n",
       "    </tr>\n",
       "  </tbody>\n",
       "</table>\n",
       "<p>59976 rows × 7 columns</p>\n",
       "</div>"
      ],
      "text/plain": [
       "       Fiscal Year                                Employer  Initial Approval  \\\n",
       "0             2022                 AMAZON.COM SERVICES LLC              3296   \n",
       "1             2022                         INFOSYS LIMITED              3117   \n",
       "2             2022               TATA CONSULTANCY SVCS LTD              2722   \n",
       "3             2022  COGNIZANT TECHNOLOGY SOLUTIONS US CORP              2447   \n",
       "4             2022                              GOOGLE LLC              1562   \n",
       "...            ...                                     ...               ...   \n",
       "59978         2022         INTERNATIONAL B2B SOLUTIONS INC                 0   \n",
       "59979         2022                INTERNATIONAL BRIDGE INC                 0   \n",
       "59980         2022        INTERNATIONAL BUDGET PARTNERSHIP                 0   \n",
       "59981         2022      INTERNATIONAL BUSINESS SOLUTIONS L                 0   \n",
       "59982         2022                         ZZ VENTURES INC                 0   \n",
       "\n",
       "       Initial Denial  Continuing Approval  Continuing Denial             City  \n",
       "0                  18                 6314                103        ARLINGTON  \n",
       "1                  50                 3971                 22       RICHARDSON  \n",
       "2                  86                 7238                255        ROCKVILLE  \n",
       "3                  22                 3375                 36  COLLEGE STATION  \n",
       "4                  11                 6858                 76    MOUNTAIN VIEW  \n",
       "...               ...                  ...                ...              ...  \n",
       "59978               0                    1                  0       PLEASANTON  \n",
       "59979               0                    1                  0            PROVO  \n",
       "59980               0                    2                  0       WASHINGTON  \n",
       "59981               0                    1                  0      BRIDGEWATER  \n",
       "59982               0                    1                  0    SAN FRANCISCO  \n",
       "\n",
       "[59976 rows x 7 columns]"
      ]
     },
     "execution_count": 7,
     "metadata": {},
     "output_type": "execute_result"
    }
   ],
   "source": [
    "look = search.upper()\n",
    "work_data[work_data['Employer'].str.contains(look)]"
   ]
  },
  {
   "cell_type": "code",
   "execution_count": 8,
   "id": "d42b2abf",
   "metadata": {},
   "outputs": [
    {
     "data": {
      "text/html": [
       "<div>\n",
       "<style scoped>\n",
       "    .dataframe tbody tr th:only-of-type {\n",
       "        vertical-align: middle;\n",
       "    }\n",
       "\n",
       "    .dataframe tbody tr th {\n",
       "        vertical-align: top;\n",
       "    }\n",
       "\n",
       "    .dataframe thead th {\n",
       "        text-align: right;\n",
       "    }\n",
       "</style>\n",
       "<table border=\"1\" class=\"dataframe\">\n",
       "  <thead>\n",
       "    <tr style=\"text-align: right;\">\n",
       "      <th></th>\n",
       "      <th>Fiscal Year</th>\n",
       "      <th>Employer</th>\n",
       "      <th>Initial Approval</th>\n",
       "      <th>Initial Denial</th>\n",
       "      <th>Continuing Approval</th>\n",
       "      <th>Continuing Denial</th>\n",
       "      <th>NAICS</th>\n",
       "      <th>Tax ID</th>\n",
       "      <th>State</th>\n",
       "      <th>City</th>\n",
       "      <th>ZIP</th>\n",
       "    </tr>\n",
       "  </thead>\n",
       "  <tbody>\n",
       "    <tr>\n",
       "      <th>2876</th>\n",
       "      <td>2022</td>\n",
       "      <td>AMAZON.COM SERVICES LLC</td>\n",
       "      <td>3296</td>\n",
       "      <td>18</td>\n",
       "      <td>6314</td>\n",
       "      <td>103</td>\n",
       "      <td>45</td>\n",
       "      <td>4687.0</td>\n",
       "      <td>VA</td>\n",
       "      <td>ARLINGTON</td>\n",
       "      <td>22202.0</td>\n",
       "    </tr>\n",
       "    <tr>\n",
       "      <th>26096</th>\n",
       "      <td>2022</td>\n",
       "      <td>INFOSYS LIMITED</td>\n",
       "      <td>3117</td>\n",
       "      <td>50</td>\n",
       "      <td>3971</td>\n",
       "      <td>22</td>\n",
       "      <td>54</td>\n",
       "      <td>235.0</td>\n",
       "      <td>TX</td>\n",
       "      <td>RICHARDSON</td>\n",
       "      <td>75082.0</td>\n",
       "    </tr>\n",
       "    <tr>\n",
       "      <th>51067</th>\n",
       "      <td>2022</td>\n",
       "      <td>TATA CONSULTANCY SVCS LTD</td>\n",
       "      <td>2722</td>\n",
       "      <td>86</td>\n",
       "      <td>7238</td>\n",
       "      <td>255</td>\n",
       "      <td>54</td>\n",
       "      <td>9806.0</td>\n",
       "      <td>MD</td>\n",
       "      <td>ROCKVILLE</td>\n",
       "      <td>20850.0</td>\n",
       "    </tr>\n",
       "    <tr>\n",
       "      <th>12011</th>\n",
       "      <td>2022</td>\n",
       "      <td>COGNIZANT TECHNOLOGY SOLUTIONS US CORP</td>\n",
       "      <td>2447</td>\n",
       "      <td>22</td>\n",
       "      <td>3375</td>\n",
       "      <td>36</td>\n",
       "      <td>54</td>\n",
       "      <td>4155.0</td>\n",
       "      <td>TX</td>\n",
       "      <td>COLLEGE STATION</td>\n",
       "      <td>77845.0</td>\n",
       "    </tr>\n",
       "    <tr>\n",
       "      <th>22206</th>\n",
       "      <td>2022</td>\n",
       "      <td>GOOGLE LLC</td>\n",
       "      <td>1562</td>\n",
       "      <td>11</td>\n",
       "      <td>6858</td>\n",
       "      <td>76</td>\n",
       "      <td>54</td>\n",
       "      <td>3581.0</td>\n",
       "      <td>CA</td>\n",
       "      <td>MOUNTAIN VIEW</td>\n",
       "      <td>94043.0</td>\n",
       "    </tr>\n",
       "  </tbody>\n",
       "</table>\n",
       "</div>"
      ],
      "text/plain": [
       "       Fiscal Year                                Employer  Initial Approval  \\\n",
       "2876          2022                 AMAZON.COM SERVICES LLC              3296   \n",
       "26096         2022                         INFOSYS LIMITED              3117   \n",
       "51067         2022               TATA CONSULTANCY SVCS LTD              2722   \n",
       "12011         2022  COGNIZANT TECHNOLOGY SOLUTIONS US CORP              2447   \n",
       "22206         2022                              GOOGLE LLC              1562   \n",
       "\n",
       "       Initial Denial  Continuing Approval  Continuing Denial  NAICS  Tax ID  \\\n",
       "2876               18                 6314                103     45  4687.0   \n",
       "26096              50                 3971                 22     54   235.0   \n",
       "51067              86                 7238                255     54  9806.0   \n",
       "12011              22                 3375                 36     54  4155.0   \n",
       "22206              11                 6858                 76     54  3581.0   \n",
       "\n",
       "      State             City      ZIP  \n",
       "2876     VA        ARLINGTON  22202.0  \n",
       "26096    TX       RICHARDSON  75082.0  \n",
       "51067    MD        ROCKVILLE  20850.0  \n",
       "12011    TX  COLLEGE STATION  77845.0  \n",
       "22206    CA    MOUNTAIN VIEW  94043.0  "
      ]
     },
     "execution_count": 8,
     "metadata": {},
     "output_type": "execute_result"
    }
   ],
   "source": [
    "sorted_data.head()\n"
   ]
  },
  {
   "cell_type": "code",
   "execution_count": 201,
   "id": "00d3f9c3",
   "metadata": {},
   "outputs": [],
   "source": [
    "comp = 'oxy'\n",
    "key_word = 'data'"
   ]
  },
  {
   "cell_type": "code",
   "execution_count": 159,
   "id": "56c899d9",
   "metadata": {},
   "outputs": [],
   "source": [
    "os.environ['PATH'] += '/Users/deekshith/Documents/Selenium Drivers'"
   ]
  },
  {
   "cell_type": "code",
   "execution_count": 189,
   "id": "8329ce23",
   "metadata": {},
   "outputs": [],
   "source": [
    "driver = webdriver.Firefox()\n"
   ]
  },
  {
   "cell_type": "code",
   "execution_count": 216,
   "id": "af85d622",
   "metadata": {},
   "outputs": [],
   "source": [
    "driver.get('https://www.google.com/')\n",
    "driver.find_element(By.CLASS_NAME, \"gLFyf\" ).send_keys( key_word+\" job openings in \"+comp+ Keys.ENTER)"
   ]
  },
  {
   "cell_type": "code",
   "execution_count": 219,
   "id": "26c9cdfb",
   "metadata": {},
   "outputs": [],
   "source": [
    "try : \n",
    "    temp = driver.find_element(By.CSS_SELECTOR,'a[href*=\";jobs&\"]')\n",
    "    link = temp.get_attribute('href')\n",
    "    driver.get(link)\n",
    "    driver.maximize_window()\n",
    "    job_list = driver.find_elements(By.TAG_NAME,\"li\")\n",
    "    for job in job_list:\n",
    "        print(job.text+\"\\n\")\n",
    "except :\n",
    "    driver.get('https://www.indeed.com/jobs?q='+comp+'+'+key_word)\n",
    "    page = driver.page_source\n",
    "    job_list = driver.find_elements(By.TAG_NAME,\"li\")\n",
    "    jobs = []\n",
    "    for job in job_list:\n",
    "        try : jobs.append(job.text)\n",
    "        except : continue \n",
    "    for job in jobs :\n",
    "    if comp in job: print(job)\n",
    "    else: continue \n",
    "            \n"
   ]
  },
  {
   "cell_type": "code",
   "execution_count": 222,
   "id": "bdded477",
   "metadata": {},
   "outputs": [],
   "source": []
  },
  {
   "cell_type": "code",
   "execution_count": null,
   "id": "890582e8",
   "metadata": {},
   "outputs": [],
   "source": []
  }
 ],
 "metadata": {
  "kernelspec": {
   "display_name": "Python 3 (ipykernel)",
   "language": "python",
   "name": "python3"
  },
  "language_info": {
   "codemirror_mode": {
    "name": "ipython",
    "version": 3
   },
   "file_extension": ".py",
   "mimetype": "text/x-python",
   "name": "python",
   "nbconvert_exporter": "python",
   "pygments_lexer": "ipython3",
   "version": "3.9.13"
  }
 },
 "nbformat": 4,
 "nbformat_minor": 5
}
